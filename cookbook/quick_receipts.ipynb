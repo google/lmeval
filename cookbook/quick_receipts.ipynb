{
 "cells": [
  {
   "cell_type": "code",
   "execution_count": 2,
   "metadata": {},
   "outputs": [
    {
     "name": "stdout",
     "output_type": "stream",
     "text": [
      "answer: This is a cat. It has blue eyes.\n",
      "execution time: 1.51 - tokens: 24\n"
     ]
    }
   ],
   "source": [
    "from lmeval import Media, Modality, FileType\n",
    "from lmeval.models.gemini import GeminiModel\n",
    "\n",
    "# create a media from file to be passed to the model\n",
    "content = open('data/media/cat_blue.jpg', 'rb').read()\n",
    "media = Media(content=content,\n",
    "              modality=Modality.image,\n",
    "              filetype=FileType.jpeg)\n",
    "\n",
    "\n",
    "model = GeminiModel()\n",
    "answer = model.generate_text('What is this animal? what is the color of its eyes?',\n",
    "                             medias=media)\n",
    "print(f\"answer: {answer.answer}\")\n",
    "print(f\"execution time: {round(answer.steps[0].execution_time, 2)} - tokens: {answer.steps[0].total_tokens}\")"
   ]
  }
 ],
 "metadata": {
  "kernelspec": {
   "display_name": ".venv",
   "language": "python",
   "name": "python3"
  },
  "language_info": {
   "codemirror_mode": {
    "name": "ipython",
    "version": 3
   },
   "file_extension": ".py",
   "mimetype": "text/x-python",
   "name": "python",
   "nbconvert_exporter": "python",
   "pygments_lexer": "ipython3",
   "version": "3.12.6"
  }
 },
 "nbformat": 4,
 "nbformat_minor": 2
}

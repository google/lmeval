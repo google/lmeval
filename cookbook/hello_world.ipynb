{
 "cells": [
  {
   "cell_type": "markdown",
   "metadata": {},
   "source": [
    "## Create, Run and Analzye a visual Q/A benchmark\n",
    "\n",
    "Here is a very basic example of how to create, run and anlyze a benchmark with LMeval.\n",
    "LMeval offers far more capabilities but that should give you a feel of what it does."
   ]
  },
  {
   "cell_type": "code",
   "execution_count": 1,
   "metadata": {},
   "outputs": [],
   "source": [
    "from lmeval import get_scorer, ScorerType, Question, Task, TaskType\n",
    "from lmeval import Category, Benchmark, QuestionSource\n",
    "from lmeval.evaluator import Evaluator\n",
    "from lmeval.prompts import SingleWordAnswerPrompt\n",
    "from lmeval.models.gemini import GeminiModel\n",
    "from lmeval import load_benchmark"
   ]
  },
  {
   "cell_type": "markdown",
   "metadata": {},
   "source": [
    "## benchmark creation"
   ]
  },
  {
   "cell_type": "code",
   "execution_count": 2,
   "metadata": {},
   "outputs": [
    {
     "name": "stdout",
     "output_type": "stream",
     "text": [
      "-=Cat Visual Questions ()=-\n",
      "Ask questions about cats picture\n",
      "|-Authors:  ()\n",
      "|-Version:  - License: \n",
      "|-URL: \n",
      "|-Questions: 2\n",
      "|-Answers: 0\n",
      "\n",
      "[Questions Stats]\n",
      "               Type             Level      Questions  Images    Audios    Videos      Prompts    Models    Answers    Punts\n",
      "-------------  ---------------  -------  -----------  --------  --------  --------  ---------  --------  ---------  -------\n",
      "cat Q/A                                            2                                        0         0          0        0\n",
      "|- Eyes color  text_generation  basic              2  0         0         0                 0         0          0        0\n"
     ]
    }
   ],
   "source": [
    "SAVE_PATH = '../tmp/cats.lmarxiv'\n",
    "# create a benchmark object\n",
    "benchmark = Benchmark(name='Cat Visual Questions',\n",
    "                      description='Ask questions about cats picture')\n",
    "\n",
    "# define category\n",
    "category = Category(name='cat Q/A')\n",
    "benchmark.categories.append(category)\n",
    "\n",
    "# define task\n",
    "scorer = get_scorer(ScorerType.contain_text_insensitive)\n",
    "task = Task(name='Eyes color', type=TaskType.text_generation, scorer=scorer)\n",
    "category.tasks.append(task)\n",
    "\n",
    "# add questions\n",
    "source = QuestionSource(name='cookbook')\n",
    "# cat 1 question - create question then add media image\n",
    "question = Question(id=0, question='what is the colors of eye?',\n",
    "                    answer='blue', source=source)\n",
    "question.add_media('./data/media/cat_blue.jpg')\n",
    "task.questions.append(question)\n",
    "\n",
    "# cat 2 question - create question then add media image\n",
    "question = Question(id=1, question='what is the colors of eye?',\n",
    "                    answer='green', source=source)\n",
    "question.add_media('./data/media/cat_green.jpg')\n",
    "task.questions.append(question)\n",
    "benchmark.summary()\n"
   ]
  },
  {
   "cell_type": "markdown",
   "metadata": {},
   "source": [
    "## Evaluation"
   ]
  },
  {
   "cell_type": "code",
   "execution_count": 3,
   "metadata": {},
   "outputs": [
    {
     "name": "stdout",
     "output_type": "stream",
     "text": [
      "Warning: save_path is not set, results will not be saved.\n",
      "[Cat Visual Questions evaluation planning report]\n",
      "|-Models to evaluate: 2\n",
      "|-Prompts to evaluate: 1\n",
      "|-Total evaluations to perform: 4\n",
      "\n",
      "\n",
      "Category    Task        Prompt                  Model                      Planned    Existing    Expected Total\n",
      "----------  ----------  ----------------------  -----------------------  ---------  ----------  ----------------\n",
      "cat Q/A     Eyes color  single_word_answer-1.0  gemini-1.5-flash-unsafe          2           0                 2\n",
      "cat Q/A     Eyes color  single_word_answer-1.0  gemini-1.5-pro-unsafe            2           0                 2\n"
     ]
    },
    {
     "data": {
      "application/vnd.jupyter.widget-view+json": {
       "model_id": "50c29a455fc042c6a605539e52312227",
       "version_major": 2,
       "version_minor": 0
      },
      "text/plain": [
       "Model gemini-1.5-flash-unsafe:   0%|          | 0/2 [00:00<?, ?it/s]"
      ]
     },
     "metadata": {},
     "output_type": "display_data"
    },
    {
     "name": "stdout",
     "output_type": "stream",
     "text": [
      "exec model: gemini-1.5-flash-unsafe, prompts: 2, medias: 1\n"
     ]
    },
    {
     "data": {
      "application/vnd.jupyter.widget-view+json": {
       "model_id": "dace8ecbbfe34b988308a9cf01e37c03",
       "version_major": 2,
       "version_minor": 0
      },
      "text/plain": [
       "Model gemini-1.5-pro-unsafe:   0%|          | 0/2 [00:00<?, ?it/s]"
      ]
     },
     "metadata": {},
     "output_type": "display_data"
    },
    {
     "name": "stdout",
     "output_type": "stream",
     "text": [
      "exec model: gemini-1.5-pro-unsafe, prompts: 2, medias: 1\n"
     ]
    }
   ],
   "source": [
    "# evaluate benchmark on two models\n",
    "models = [GeminiModel(), GeminiModel(model_version='gemini-1.5-pro')]\n",
    "\n",
    "prompt = SingleWordAnswerPrompt()\n",
    "evaluator = Evaluator(benchmark)\n",
    "eval_plan = evaluator.plan(models, prompt)  # plan evaluation\n",
    "completed_benchmark = evaluator.execute()  # run evaluation"
   ]
  },
  {
   "cell_type": "markdown",
   "metadata": {},
   "source": [
    "# Serialization"
   ]
  },
  {
   "cell_type": "code",
   "execution_count": 4,
   "metadata": {},
   "outputs": [
    {
     "name": "stdout",
     "output_type": "stream",
     "text": [
      "-=Cat Visual Questions ()=-\n",
      "Ask questions about cats picture\n",
      "|-Authors:  ()\n",
      "|-Version:  - License: \n",
      "|-URL: \n",
      "|-Questions: 2\n",
      "|-Answers: 4\n",
      "\n",
      "[Questions Stats]\n",
      "               Type             Level      Questions  Images    Audios    Videos      Prompts    Models    Answers    Punts\n",
      "-------------  ---------------  -------  -----------  --------  --------  --------  ---------  --------  ---------  -------\n",
      "cat Q/A                                            2                                        1         1          4        0\n",
      "|- Eyes color  text_generation  basic              2  0         0         0                 2         4          4        0\n",
      "\n",
      "[Answers Stats]\n",
      "Model                      Num Answers    Avg Score    Num Punts\n",
      "-----------------------  -------------  -----------  -----------\n",
      "gemini-1.5-flash-unsafe              2            1            0\n",
      "gemini-1.5-pro-unsafe                2            1            0\n"
     ]
    },
    {
     "data": {
      "application/vnd.jupyter.widget-view+json": {
       "model_id": "d7e476ab62484df6a0201d0a589b9afc",
       "version_major": 2,
       "version_minor": 0
      },
      "text/plain": [
       "Saving medias content in benchmark archive:   0%|          | 0/2 [00:00<?, ?it/s]"
      ]
     },
     "metadata": {},
     "output_type": "display_data"
    },
    {
     "data": {
      "application/vnd.jupyter.widget-view+json": {
       "model_id": "f31704323a9c427ca7de0c7730a4c16c",
       "version_major": 2,
       "version_minor": 0
      },
      "text/plain": [
       "Reloading medias content from benchmark archive:   0%|          | 0/2 [00:00<?, ?it/s]"
      ]
     },
     "metadata": {},
     "output_type": "display_data"
    }
   ],
   "source": [
    "# we check the benchmark now have answer\n",
    "benchmark.summary()\n",
    "# feel free to save your results\n",
    "benchmark.save(SAVE_PATH)"
   ]
  },
  {
   "cell_type": "markdown",
   "metadata": {},
   "source": [
    "## basic analysis\n",
    "\n",
    "You can export the benchmark to a pandas frame and from there slice and dice \n",
    "results however you like."
   ]
  },
  {
   "cell_type": "code",
   "execution_count": 5,
   "metadata": {},
   "outputs": [
    {
     "data": {
      "text/html": [
       "<div>\n",
       "<style scoped>\n",
       "    .dataframe tbody tr th:only-of-type {\n",
       "        vertical-align: middle;\n",
       "    }\n",
       "\n",
       "    .dataframe tbody tr th {\n",
       "        vertical-align: top;\n",
       "    }\n",
       "\n",
       "    .dataframe thead th {\n",
       "        text-align: right;\n",
       "    }\n",
       "</style>\n",
       "<table border=\"1\" class=\"dataframe\">\n",
       "  <thead>\n",
       "    <tr style=\"text-align: right;\">\n",
       "      <th></th>\n",
       "      <th>qid</th>\n",
       "      <th>category</th>\n",
       "      <th>task</th>\n",
       "      <th>task_type</th>\n",
       "      <th>question</th>\n",
       "      <th>num_steps</th>\n",
       "      <th>prompt</th>\n",
       "      <th>model</th>\n",
       "      <th>score</th>\n",
       "      <th>punting</th>\n",
       "      <th>total_time</th>\n",
       "      <th>total_cost</th>\n",
       "      <th>total_tokens</th>\n",
       "      <th>completion_tokens</th>\n",
       "      <th>prompt_tokens</th>\n",
       "    </tr>\n",
       "  </thead>\n",
       "  <tbody>\n",
       "    <tr>\n",
       "      <th>0</th>\n",
       "      <td>0</td>\n",
       "      <td>cat Q/A</td>\n",
       "      <td>Eyes color</td>\n",
       "      <td>text_generation</td>\n",
       "      <td>what is the colors of eye?</td>\n",
       "      <td>1</td>\n",
       "      <td>single_word_answer-1.0</td>\n",
       "      <td>gemini-1.5-flash-unsafe</td>\n",
       "      <td>1.0</td>\n",
       "      <td>0</td>\n",
       "      <td>1.295860</td>\n",
       "      <td>0.000022</td>\n",
       "      <td>286</td>\n",
       "      <td>1</td>\n",
       "      <td>285</td>\n",
       "    </tr>\n",
       "    <tr>\n",
       "      <th>1</th>\n",
       "      <td>0</td>\n",
       "      <td>cat Q/A</td>\n",
       "      <td>Eyes color</td>\n",
       "      <td>text_generation</td>\n",
       "      <td>what is the colors of eye?</td>\n",
       "      <td>1</td>\n",
       "      <td>single_word_answer-1.0</td>\n",
       "      <td>gemini-1.5-pro-unsafe</td>\n",
       "      <td>1.0</td>\n",
       "      <td>0</td>\n",
       "      <td>1.612879</td>\n",
       "      <td>0.001008</td>\n",
       "      <td>286</td>\n",
       "      <td>1</td>\n",
       "      <td>285</td>\n",
       "    </tr>\n",
       "    <tr>\n",
       "      <th>2</th>\n",
       "      <td>1</td>\n",
       "      <td>cat Q/A</td>\n",
       "      <td>Eyes color</td>\n",
       "      <td>text_generation</td>\n",
       "      <td>what is the colors of eye?</td>\n",
       "      <td>1</td>\n",
       "      <td>single_word_answer-1.0</td>\n",
       "      <td>gemini-1.5-flash-unsafe</td>\n",
       "      <td>1.0</td>\n",
       "      <td>0</td>\n",
       "      <td>1.296896</td>\n",
       "      <td>0.000022</td>\n",
       "      <td>286</td>\n",
       "      <td>1</td>\n",
       "      <td>285</td>\n",
       "    </tr>\n",
       "    <tr>\n",
       "      <th>3</th>\n",
       "      <td>1</td>\n",
       "      <td>cat Q/A</td>\n",
       "      <td>Eyes color</td>\n",
       "      <td>text_generation</td>\n",
       "      <td>what is the colors of eye?</td>\n",
       "      <td>1</td>\n",
       "      <td>single_word_answer-1.0</td>\n",
       "      <td>gemini-1.5-pro-unsafe</td>\n",
       "      <td>1.0</td>\n",
       "      <td>0</td>\n",
       "      <td>1.613700</td>\n",
       "      <td>0.001008</td>\n",
       "      <td>286</td>\n",
       "      <td>1</td>\n",
       "      <td>285</td>\n",
       "    </tr>\n",
       "  </tbody>\n",
       "</table>\n",
       "</div>"
      ],
      "text/plain": [
       "   qid category        task        task_type                    question  \\\n",
       "0    0  cat Q/A  Eyes color  text_generation  what is the colors of eye?   \n",
       "1    0  cat Q/A  Eyes color  text_generation  what is the colors of eye?   \n",
       "2    1  cat Q/A  Eyes color  text_generation  what is the colors of eye?   \n",
       "3    1  cat Q/A  Eyes color  text_generation  what is the colors of eye?   \n",
       "\n",
       "   num_steps                  prompt                    model  score  punting  \\\n",
       "0          1  single_word_answer-1.0  gemini-1.5-flash-unsafe    1.0        0   \n",
       "1          1  single_word_answer-1.0    gemini-1.5-pro-unsafe    1.0        0   \n",
       "2          1  single_word_answer-1.0  gemini-1.5-flash-unsafe    1.0        0   \n",
       "3          1  single_word_answer-1.0    gemini-1.5-pro-unsafe    1.0        0   \n",
       "\n",
       "   total_time  total_cost  total_tokens  completion_tokens  prompt_tokens  \n",
       "0    1.295860    0.000022           286                  1            285  \n",
       "1    1.612879    0.001008           286                  1            285  \n",
       "2    1.296896    0.000022           286                  1            285  \n",
       "3    1.613700    0.001008           286                  1            285  "
      ]
     },
     "execution_count": 5,
     "metadata": {},
     "output_type": "execute_result"
    }
   ],
   "source": [
    "df = benchmark.to_dataframe()\n",
    "df.head()"
   ]
  },
  {
   "cell_type": "code",
   "execution_count": 6,
   "metadata": {},
   "outputs": [
    {
     "data": {
      "text/plain": [
       "<Axes: xlabel='model'>"
      ]
     },
     "execution_count": 6,
     "metadata": {},
     "output_type": "execute_result"
    },
    {
     "data": {
      "image/png": "[encoded data removed]",
      "text/plain": [
       "<Figure size 640x480 with 1 Axes>"
      ]
     },
     "metadata": {},
     "output_type": "display_data"
    }
   ],
   "source": [
    "df.groupby('model')['score'].mean().plot(kind='bar')"
   ]
  }
 ],
 "metadata": {
  "kernelspec": {
   "display_name": ".venv",
   "language": "python",
   "name": "python3"
  },
  "language_info": {
   "codemirror_mode": {
    "name": "ipython",
    "version": 3
   },
   "file_extension": ".py",
   "mimetype": "text/x-python",
   "name": "python",
   "nbconvert_exporter": "python",
   "pygments_lexer": "ipython3",
   "version": "3.12.6"
  }
 },
 "nbformat": 4,
 "nbformat_minor": 2
}
